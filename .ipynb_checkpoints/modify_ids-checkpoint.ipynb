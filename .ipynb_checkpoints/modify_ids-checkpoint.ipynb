{
 "cells": [
  {
   "cell_type": "code",
   "execution_count": 10,
   "metadata": {
    "pycharm": {
     "name": "#%%\n"
    }
   },
   "outputs": [
    {
     "name": "stdout",
     "output_type": "stream",
     "text": [
      "source_id 0\n",
      "targets:  [100, 101, 102, 103, 104, 105, 106, 107, 108, 109, 110, 111, 112, 113, 114, 115, 116, 117]\n",
      "source_id 1\n",
      "targets:  [118, 119, 120, 121, 122, 123, 124, 125, 126, 127, 128, 129, 130, 131, 132, 133, 134, 135]\n",
      "source_id 2\n",
      "targets:  [136, 137, 138, 139, 140, 141, 142, 143, 144, 145, 146, 147, 148, 149, 150, 151, 152, 153]\n",
      "source_id 3\n",
      "targets:  [200, 201, 202, 203, 204, 205, 206, 207, 208, 209, 210, 211, 212, 213, 214, 215, 216, 217]\n",
      "source_id 4\n",
      "targets:  [218, 219, 220, 221, 222, 223, 224, 225, 226, 227, 228, 229, 230, 231, 232, 233, 234, 235]\n",
      "source_id 5\n",
      "targets:  [236, 237, 238, 239, 240, 241, 242, 243, 244, 245, 246, 247, 248, 249, 250, 251, 252, 253]\n"
     ]
    }
   ],
   "source": [
    "import json\n",
    "\n",
    "\"Variables\"\n",
    "# How many targets per car\n",
    "target_count_car = 54\n",
    "# How many cars; modify here\n",
    "how_many_cars = 2\n",
    "# How many sources per car\n",
    "sources_per_car = 3\n",
    "# How many targets are set to one source in one car\n",
    "targets_per_source = target_count_car / sources_per_car\n",
    "# Data from scenario\n",
    "data = None\n",
    "\n",
    "\"Get the data from the base scenario file\"\n",
    "# Base scenario files\n",
    "# One car\n",
    "file1 = \"./output_files_vadere/final_project/scenarios/one_car.scenario\"\n",
    "# Two cars\n",
    "file2 = \"./output_files_vadere/final_project/scenarios/two_cars.scenario\"\n",
    "#\n",
    "file = file1 if how_many_cars == 1 else file2\n",
    "f = open(file, \"r\")\n",
    "data = json.loads(f.read())\n",
    "f.close()\n",
    "\n",
    "\"\"\"\n",
    "Modify IDs of targets such that the IDs' ranges are:\n",
    "- for the first car: 100->153\n",
    "- for the second car: 200->253\n",
    "\"\"\"\n",
    "# Variable to keep track of the target ID in current car\n",
    "counter_car = 0\n",
    "# Starting ID for first car\n",
    "car_id = 100\n",
    "for i in range(target_count_car * how_many_cars):\n",
    "    if i == target_count_car and how_many_cars == 2:\n",
    "        counter_car = 0\n",
    "        car_id = 200\n",
    "    data[\"scenario\"][\"topography\"][\"targets\"][i][\"id\"] = car_id + counter_car\n",
    "    counter_car += 1\n",
    "\n",
    "\n",
    "def generate_target_list(source_id):\n",
    "    \"\"\"\n",
    "    Modify IDs of sources and their target list such that the IDs' ranges are:\n",
    "    - for source with ID=0: 100->117\n",
    "    - for source with ID=1: 118->135\n",
    "    - for source with ID=2: 136->154\n",
    "    - for source with ID=3: 200->217\n",
    "    - for source with ID=4: 218->235\n",
    "    - for source with ID=5: 236->254\n",
    "    :param source_id: The ID of the current source\n",
    "    :type source_id: int\n",
    "    :return: list with targets corresponding to current source\n",
    "    :rtype: list\n",
    "    \"\"\"\n",
    "    targets = []\n",
    "    if source_id >= sources_per_car:\n",
    "        car_id = 200\n",
    "    else:\n",
    "        car_id = 100\n",
    "\n",
    "    # Compute min and max for target ID for current source\n",
    "    range_min = int(car_id + targets_per_source * (source_id % 3))\n",
    "\n",
    "    if (source_id + 1) % 3 == 0:  # last source in car\n",
    "        range_max = int(car_id + target_count_car)\n",
    "    else:\n",
    "        range_max = int(car_id + targets_per_source * ((source_id + 1) % 3))\n",
    "\n",
    "    # Append all the targets within computed range\n",
    "    for i in range(range_min, range_max):\n",
    "        targets.append(i)\n",
    "\n",
    "    print(\"source_id\", source_id)\n",
    "    print('targets: ', targets)\n",
    "    return targets\n",
    "\n",
    "\"Update lists for each source\"\n",
    "for i in range(sources_per_car * how_many_cars):\n",
    "    data[\"scenario\"][\"topography\"][\"sources\"][i][\"id\"] = i\n",
    "    data[\"scenario\"][\"topography\"][\"sources\"][i][\"targetIds\"] = generate_target_list(i)\n",
    "\n",
    "\"Update IDs in given file\"\n",
    "f = open(file, \"w\")\n",
    "f.write(json.dumps(data, sort_keys=True, indent=2))\n",
    "f.close()"
   ]
  },
  {
   "cell_type": "code",
   "execution_count": 5,
   "metadata": {
    "pycharm": {
     "name": "#%%\n"
    }
   },
   "outputs": [],
   "source": []
  }
 ],
 "metadata": {
  "kernelspec": {
   "display_name": "Python 3",
   "language": "python",
   "name": "python3"
  },
  "language_info": {
   "codemirror_mode": {
    "name": "ipython",
    "version": 3
   },
   "file_extension": ".py",
   "mimetype": "text/x-python",
   "name": "python",
   "nbconvert_exporter": "python",
   "pygments_lexer": "ipython3",
   "version": "3.8.8"
  }
 },
 "nbformat": 4,
 "nbformat_minor": 1
}
