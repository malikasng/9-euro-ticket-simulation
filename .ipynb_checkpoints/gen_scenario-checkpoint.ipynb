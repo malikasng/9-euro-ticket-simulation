{
 "cells": [
  {
   "cell_type": "markdown",
   "metadata": {
    "pycharm": {
     "name": "#%% md\n"
    }
   },
   "source": [
    "# Imports"
   ]
  },
  {
   "cell_type": "code",
   "execution_count": 1,
   "metadata": {
    "pycharm": {
     "name": "#%%\n"
    }
   },
   "outputs": [
    {
     "data": {
      "text/plain": [
       "'1.23.1'"
      ]
     },
     "execution_count": 1,
     "metadata": {},
     "output_type": "execute_result"
    }
   ],
   "source": [
    "import json\n",
    "import numpy as np\n",
    "import time\n",
    "np.__version__"
   ]
  },
  {
   "cell_type": "markdown",
   "metadata": {
    "pycharm": {
     "name": "#%% md\n"
    }
   },
   "source": [
    "# Get base scenario file"
   ]
  },
  {
   "cell_type": "code",
   "execution_count": 2,
   "metadata": {
    "pycharm": {
     "name": "#%%\n"
    }
   },
   "outputs": [],
   "source": [
    "# Number of cars\n",
    "number_of_cars = 2\n",
    "\n",
    "# Get base scenario\n",
    "file1 = \"./output_files_vadere/final_project/scenarios/one_car.scenario\"\n",
    "file2 = \"./output_files_vadere/final_project/scenarios/two_cars.scenario\"\n",
    "\n",
    "file = file1 if number_of_cars == 1 else file2\n",
    "\n",
    "f = open(file,\"r\")\n",
    "data = json.loads(f.read())\n",
    "f.close()"
   ]
  },
  {
   "cell_type": "markdown",
   "metadata": {
    "pycharm": {
     "name": "#%% md\n"
    }
   },
   "source": [
    "# Add variables which need to be changed"
   ]
  },
  {
   "cell_type": "markdown",
   "metadata": {
    "pycharm": {
     "name": "#%% md\n"
    }
   },
   "source": [
    "## Modify how many pedestrians come out of each source/gate based on number of cars"
   ]
  },
  {
   "cell_type": "code",
   "execution_count": 3,
   "metadata": {
    "pycharm": {
     "name": "#%%\n"
    }
   },
   "outputs": [
    {
     "name": "stdout",
     "output_type": "stream",
     "text": [
      "[17, 5, 2, 3, 7, 16]\n"
     ]
    }
   ],
   "source": [
    "# Total number of passengers we want to have\n",
    "totalNumber = 50\n",
    "\n",
    "# Number of gates per car\n",
    "gatesPerCar = 3\n",
    "\n",
    "# Number of gates\n",
    "gates = gatesPerCar * number_of_cars\n",
    "\n",
    "# List of how many passengers each source will spawn; at first, it's empty\n",
    "spawnNumber = [0] * gates\n",
    "\n",
    "# First and last gates are busier than the middle one(s)\n",
    "busierGates = [0, gates - 1]\n",
    "\n",
    "# Sum to check there are not more passengers than desired\n",
    "checkPassSum = 0\n",
    "aux = 0\n",
    "\n",
    "# Maximum values can be taken only by the first and last gate\n",
    "lastBusyGate = -1\n",
    "\n",
    "for gate in range(gates):\n",
    "\n",
    "    # Factor which determines the business of a gate\n",
    "    meanFactor = (2 + gates) / (4 * gates) if gate in busierGates else 1 / (2 * gates)\n",
    "\n",
    "    # Mean of the normal distribution\n",
    "    mu = totalNumber * meanFactor\n",
    "\n",
    "    # Standard deviation of the normal distribution which samples number of passengers\n",
    "    sigma = 1\n",
    "\n",
    "    # Number of passengers coming through the gate\n",
    "    x = round(np.random.normal(mu, sigma, 1)[0])\n",
    "\n",
    "    # Remember the first gate, which should be busier than middle gates\n",
    "    # Regenerate number of passengers if there are more people\n",
    "    # coming through the middle gates than outer gates\n",
    "    if gate == 0:\n",
    "        lastBusyGate = x\n",
    "    else:\n",
    "        while x < 0 or (lastBusyGate <= x and gate not in busierGates):\n",
    "            x = round(np.random.normal(mu, sigma, 1)[0])\n",
    "\n",
    "    # Simulate what would happen if we added the current x for this gate\n",
    "    aux = checkPassSum\n",
    "    aux += x\n",
    "\n",
    "    # Check if we already have the necessary number of passengers\n",
    "    # If we do, break the loop\n",
    "    if aux == totalNumber:\n",
    "        spawnNumber[gate] = x\n",
    "        break\n",
    "    elif gate != 0:\n",
    "        # If not, and we are not at the first gate\n",
    "        # check how many passengers do we need to get the sum\n",
    "        difference = np.abs(totalNumber - aux)\n",
    "        # 1 if the sum is less than total number of expected passengers\n",
    "        # -1 if we have more passengers than needed\n",
    "        coeff = 1 if aux < totalNumber else -1\n",
    "        # If we are at the last gate and need more people or if we have too many people\n",
    "        if (coeff == 1 and gate == gates - 1) or (coeff == -1):\n",
    "            x = x + coeff * difference\n",
    "    # Add the correct x to the real passenger sum\n",
    "    checkPassSum += x\n",
    "    # Add the number of passengers to their gate\n",
    "    spawnNumber[gate] = x\n",
    "\n",
    "print(spawnNumber)"
   ]
  },
  {
   "cell_type": "code",
   "execution_count": 4,
   "metadata": {
    "pycharm": {
     "name": "#%%\n"
    }
   },
   "outputs": [
    {
     "name": "stdout",
     "output_type": "stream",
     "text": [
      "{'waitingTime': 2.0, 'spawnNumber': [17, 5, 2, 3, 7, 16], 'minimumSpeed': 0.01, 'maximumSpeed': 1.3}\n"
     ]
    }
   ],
   "source": [
    "variables = {\n",
    "    \"waitingTime\": 2.0,\n",
    "    \"spawnNumber\": spawnNumber,\n",
    "    \"minimumSpeed\": 0.01,\n",
    "    \"maximumSpeed\": 1.3\n",
    "}\n",
    "print(variables)"
   ]
  },
  {
   "cell_type": "markdown",
   "metadata": {
    "pycharm": {
     "name": "#%% md\n"
    }
   },
   "source": [
    "## Modify targets waiting times (simulate rise of temperature)"
   ]
  },
  {
   "cell_type": "code",
   "execution_count": 5,
   "metadata": {
    "pycharm": {
     "name": "#%%\n"
    }
   },
   "outputs": [],
   "source": [
    "targets_per_car = 54\n",
    "targets = targets_per_car\n",
    "# Modify for first car\n",
    "for i in range(targets):\n",
    "    data[\"scenario\"][\"topography\"][\"targets\"][i][\"waitingTime\"] = variables[\"waitingTime\"]"
   ]
  },
  {
   "cell_type": "markdown",
   "metadata": {
    "pycharm": {
     "name": "#%% md\n"
    }
   },
   "source": [
    "## Modify speeds of pedestrians"
   ]
  },
  {
   "cell_type": "code",
   "execution_count": 6,
   "metadata": {
    "pycharm": {
     "name": "#%%\n"
    }
   },
   "outputs": [],
   "source": [
    "data[\"scenario\"][\"topography\"][\"attributesPedestrian\"][\"minimumSpeed\"] = variables[\"minimumSpeed\"]\n",
    "data[\"scenario\"][\"topography\"][\"attributesPedestrian\"][\"maximumSpeed\"] = variables[\"maximumSpeed\"]"
   ]
  },
  {
   "cell_type": "markdown",
   "metadata": {
    "pycharm": {
     "name": "#%% md\n"
    }
   },
   "source": [
    "## Modify how many pedestrians come out of each source"
   ]
  },
  {
   "cell_type": "code",
   "execution_count": 7,
   "metadata": {
    "pycharm": {
     "name": "#%%\n"
    }
   },
   "outputs": [
    {
     "name": "stdout",
     "output_type": "stream",
     "text": [
      "source: 0 pssngrs: 17\n",
      "source: 1 pssngrs: 5\n",
      "source: 2 pssngrs: 2\n",
      "source: 3 pssngrs: 3\n",
      "source: 4 pssngrs: 7\n",
      "source: 5 pssngrs: 16\n"
     ]
    }
   ],
   "source": [
    "sources_per_car = 3\n",
    "sources = sources_per_car * number_of_cars\n",
    "for i in range(sources):\n",
    "    data[\"scenario\"][\"topography\"][\"sources\"][i][\"spawnNumber\"] = variables[\"spawnNumber\"][i]\n",
    "    print(\"source:\", i, \"pssngrs:\", data[\"scenario\"][\"topography\"][\"sources\"][i][\"spawnNumber\"])"
   ]
  },
  {
   "cell_type": "markdown",
   "metadata": {
    "pycharm": {
     "name": "#%% md\n"
    }
   },
   "source": [
    "## Generate new scenario"
   ]
  },
  {
   "cell_type": "code",
   "execution_count": 8,
   "metadata": {
    "pycharm": {
     "name": "#%%\n"
    }
   },
   "outputs": [],
   "source": [
    "files = [\"./output_files_vadere/final_project/scenarios/two_cars_2022_07_20-21_28.scenario\",\n",
    "         \"./output_files_vadere/final_project/scenarios/two_cars_2022_07_20-21_31.scenario\",\"./output_files_vadere/final_project/scenarios/two_cars_2022_07_20-21_43.scenario\"]\n",
    "\n",
    "for i in files:\n",
    "    fi = open(i, \"r\")\n",
    "    fi.close()"
   ]
  },
  {
   "cell_type": "code",
   "execution_count": 9,
   "metadata": {
    "pycharm": {
     "name": "#%%\n"
    }
   },
   "outputs": [
    {
     "name": "stdout",
     "output_type": "stream",
     "text": [
      "{\"description\": \"\", \"name\": \"two_cars_2022_07_25-11_39\", \"processWriters\": {\"files\": [{\"filename\": \"postvis.traj\", \"processors\": [1, 2], \"type\": \"org.vadere.simulator.projects.dataprocessing.outputfile.EventtimePedestrianIdOutputFile\"}, {\"filename\": \"overlaps.csv\", \"processors\": [3], \"type\": \"org.vadere.simulator.projects.dataprocessing.outputfile.TimestepPedestrianIdOverlapOutputFile\"}, {\"filename\": \"overlapCount.txt\", \"processors\": [4], \"type\": \"org.vadere.simulator.projects.dataprocessing.outputfile.NoDataKeyOutputFile\"}, {\"filename\": \"areaDensityOut.txt\", \"processors\": [5, 6, 7, 8, 9, 10, 11, 12, 13, 14, 15, 16, 17], \"type\": \"org.vadere.simulator.projects.dataprocessing.outputfile.TimestepOutputFile\"}], \"isTimestamped\": true, \"isWriteMetaData\": false, \"processors\": [{\"id\": 1, \"type\": \"org.vadere.simulator.projects.dataprocessing.processor.FootStepProcessor\"}, {\"id\": 2, \"type\": \"org.vadere.simulator.projects.dataprocessing.processor.FootStepTargetIDProcessor\"}, {\"id\": 3, \"type\": \"org.vadere.simulator.projects.dataprocessing.processor.PedestrianOverlapProcessor\"}, {\"attributes\": {\"pedestrianOverlapProcessorId\": 3}, \"attributesType\": \"org.vadere.state.attributes.processor.AttributesNumberOverlapsProcessor\", \"id\": 4, \"type\": \"org.vadere.simulator.projects.dataprocessing.processor.NumberOverlapsProcessor\"}, {\"attributes\": {\"measurementAreaId\": 55}, \"attributesType\": \"org.vadere.state.attributes.processor.AttributesAreaDensityCountingProcessor\", \"id\": 5, \"type\": \"org.vadere.simulator.projects.dataprocessing.processor.AreaDensityCountingProcessor\"}, {\"attributes\": {\"measurementAreaId\": 56}, \"attributesType\": \"org.vadere.state.attributes.processor.AttributesAreaDensityCountingProcessor\", \"id\": 6, \"type\": \"org.vadere.simulator.projects.dataprocessing.processor.AreaDensityCountingProcessor\"}, {\"attributes\": {\"measurementAreaId\": 57}, \"attributesType\": \"org.vadere.state.attributes.processor.AttributesAreaDensityCountingProcessor\", \"id\": 7, \"type\": \"org.vadere.simulator.projects.dataprocessing.processor.AreaDensityCountingProcessor\"}, {\"attributes\": {\"measurementAreaId\": 58}, \"attributesType\": \"org.vadere.state.attributes.processor.AttributesAreaDensityCountingProcessor\", \"id\": 8, \"type\": \"org.vadere.simulator.projects.dataprocessing.processor.AreaDensityCountingProcessor\"}, {\"attributes\": {\"measurementAreaId\": 59}, \"attributesType\": \"org.vadere.state.attributes.processor.AttributesAreaDensityCountingProcessor\", \"id\": 9, \"type\": \"org.vadere.simulator.projects.dataprocessing.processor.AreaDensityCountingProcessor\"}, {\"attributes\": {\"measurementAreaId\": 60}, \"attributesType\": \"org.vadere.state.attributes.processor.AttributesAreaDensityCountingProcessor\", \"id\": 10, \"type\": \"org.vadere.simulator.projects.dataprocessing.processor.AreaDensityCountingProcessor\"}, {\"attributes\": {\"measurementAreaId\": 63}, \"attributesType\": \"org.vadere.state.attributes.processor.AttributesAreaDensityCountingProcessor\", \"id\": 11, \"type\": \"org.vadere.simulator.projects.dataprocessing.processor.AreaDensityCountingProcessor\"}, {\"attributes\": {\"measurementAreaId\": 64}, \"attributesType\": \"org.vadere.state.attributes.processor.AttributesAreaDensityCountingProcessor\", \"id\": 12, \"type\": \"org.vadere.simulator.projects.dataprocessing.processor.AreaDensityCountingProcessor\"}, {\"attributes\": {\"measurementAreaId\": 65}, \"attributesType\": \"org.vadere.state.attributes.processor.AttributesAreaDensityCountingProcessor\", \"id\": 13, \"type\": \"org.vadere.simulator.projects.dataprocessing.processor.AreaDensityCountingProcessor\"}, {\"attributes\": {\"measurementAreaId\": 66}, \"attributesType\": \"org.vadere.state.attributes.processor.AttributesAreaDensityCountingProcessor\", \"id\": 14, \"type\": \"org.vadere.simulator.projects.dataprocessing.processor.AreaDensityCountingProcessor\"}, {\"attributes\": {\"measurementAreaId\": 103}, \"attributesType\": \"org.vadere.state.attributes.processor.AttributesAreaDensityCountingProcessor\", \"id\": 15, \"type\": \"org.vadere.simulator.projects.dataprocessing.processor.AreaDensityCountingProcessor\"}, {\"attributes\": {\"measurementAreaId\": 122}, \"attributesType\": \"org.vadere.state.attributes.processor.AttributesAreaDensityCountingProcessor\", \"id\": 16, \"type\": \"org.vadere.simulator.projects.dataprocessing.processor.AreaDensityCountingProcessor\"}, {\"attributes\": {\"measurementAreaId\": 123}, \"attributesType\": \"org.vadere.state.attributes.processor.AttributesAreaDensityCountingProcessor\", \"id\": 17, \"type\": \"org.vadere.simulator.projects.dataprocessing.processor.AreaDensityCountingProcessor\"}]}, \"release\": \"2.1\", \"scenario\": {\"attributesModel\": {\"org.vadere.state.attributes.models.AttributesFloorField\": {\"cacheDir\": \"\", \"cacheType\": \"NO_CACHE\", \"createMethod\": \"HIGH_ACCURACY_FAST_MARCHING\", \"obstacleGridPenalty\": 0.01, \"potentialFieldResolution\": 0.1, \"targetAttractionStrength\": 1.0, \"timeCostAttributes\": {\"height\": 1.0, \"loadingType\": \"CONSTANT\", \"obstacleDensityWeight\": 3.5, \"pedestrianDynamicWeight\": 6.0, \"pedestrianOtherTargetDensityWeight\": 2.5, \"pedestrianSameTargetDensityWeight\": 4.5, \"pedestrianWeight\": 3.5, \"queueWidthLoading\": 1.0, \"standardDeviation\": 0.7, \"type\": \"UNIT\", \"width\": 0.2}}, \"org.vadere.state.attributes.models.AttributesOSM\": {\"dynamicStepLength\": true, \"maxStepDuration\": 1.7976931348623157e+308, \"minStepLength\": 0.1, \"minimumStepLength\": true, \"movementThreshold\": 0.0, \"movementType\": \"ARBITRARY\", \"numberOfCircles\": 1, \"obstaclePotentialModel\": \"org.vadere.simulator.models.potential.PotentialFieldObstacleCompactSoftshell\", \"optimizationType\": \"NELDER_MEAD\", \"pedestrianPotentialModel\": \"org.vadere.simulator.models.potential.PotentialFieldPedestrianCompactSoftshell\", \"seeSmallWalls\": false, \"stepCircleResolution\": 4, \"stepLengthIntercept\": 0.4625, \"stepLengthSD\": 0.036, \"stepLengthSlopeSpeed\": 0.2345, \"submodels\": [], \"targetPotentialModel\": \"org.vadere.simulator.models.potential.fields.PotentialFieldTargetGrid\", \"updateType\": \"EVENT_DRIVEN\", \"varyStepDirection\": true}, \"org.vadere.state.attributes.models.AttributesPotentialCompactSoftshell\": {\"intimateSpaceFactor\": 1.2, \"intimateSpacePower\": 2, \"obstPotentialHeight\": 6.0, \"obstPotentialWidth\": 0.8, \"pedPotentialHeight\": 50.0, \"pedPotentialIntimateSpaceWidth\": 0.45, \"pedPotentialPersonalSpaceWidth\": 1.2, \"personalSpacePower\": 3}}, \"attributesPsychology\": {\"psychologyLayer\": {\"cognition\": \"SimpleCognitionModel\", \"perception\": \"SimplePerceptionModel\"}, \"usePsychologyLayer\": false}, \"attributesSimulation\": {\"digitsPerCoordinate\": 2, \"finishTime\": 50.0, \"fixedSeed\": 2652810209121801080, \"printFPS\": false, \"realTimeSimTimeRatio\": 0.8, \"simTimeStepLength\": 0.4, \"simulationSeed\": 0, \"useFixedSeed\": true, \"visualizationEnabled\": true, \"writeSimulationData\": true}, \"mainModel\": \"org.vadere.simulator.models.osm.OptimalStepsModel\", \"reactionProbabilities\": [], \"stimulusInfos\": [], \"topography\": {\"absorbingAreas\": [], \"aerosolClouds\": [], \"attributes\": {\"bounded\": true, \"boundingBoxWidth\": 0.5, \"bounds\": {\"height\": 3.7, \"width\": 28.5, \"x\": 0.0, \"y\": 0.0}, \"referenceCoordinateSystem\": null}, \"attributesCar\": {\"acceleration\": 2.0, \"densityDependentSpeed\": false, \"direction\": {\"x\": 1.0, \"y\": 0.0}, \"footstepHistorySize\": 4, \"id\": -1, \"length\": 0.5, \"maximumSpeed\": 2.2, \"minimumSpeed\": 0.5, \"radius\": 0.2, \"searchRadius\": 1.0, \"speedDistributionMean\": 1.0, \"speedDistributionStandardDeviation\": 0.26, \"walkingDirectionCalculation\": \"BY_TARGET_CENTER\", \"walkingDirectionSameIfAngleLessOrEqual\": 45.0, \"width\": 0.5}, \"attributesPedestrian\": {\"acceleration\": 2.0, \"densityDependentSpeed\": false, \"footstepHistorySize\": 4, \"maximumSpeed\": 1.3, \"minimumSpeed\": 0.01, \"radius\": 0.1, \"searchRadius\": 1.0, \"speedDistributionMean\": 1.34, \"speedDistributionStandardDeviation\": 0.26, \"walkingDirectionCalculation\": \"BY_TARGET_CENTER\", \"walkingDirectionSameIfAngleLessOrEqual\": 45.0}, \"droplets\": [], \"dynamicElements\": [], \"measurementAreas\": [{\"id\": 55, \"shape\": {\"height\": 1.4, \"type\": \"RECTANGLE\", \"width\": 4.4622222222222225, \"x\": 0.5, \"y\": 1.8022222222222224}}, {\"id\": 56, \"shape\": {\"height\": 1.4, \"type\": \"RECTANGLE\", \"width\": 4.4622222222222225, \"x\": 5.0, \"y\": 1.8414814814814817}}, {\"id\": 57, \"shape\": {\"height\": 1.4, \"type\": \"RECTANGLE\", \"width\": 4.4622222222222225, \"x\": 5.0, \"y\": 0.4414814814814817}}, {\"id\": 60, \"shape\": {\"height\": 1.4, \"type\": \"RECTANGLE\", \"width\": 4.4622222222222225, \"x\": 0.5, \"y\": 0.4022222222222223}}, {\"id\": 58, \"shape\": {\"height\": 1.4, \"type\": \"RECTANGLE\", \"width\": 4.5, \"x\": 9.5, \"y\": 1.8}}, {\"id\": 59, \"shape\": {\"height\": 1.3, \"type\": \"RECTANGLE\", \"width\": 4.5, \"x\": 9.5, \"y\": 0.5}}, {\"id\": 63, \"shape\": {\"height\": 1.4, \"type\": \"RECTANGLE\", \"width\": 4.5, \"x\": 14.5, \"y\": 1.8}}, {\"id\": 64, \"shape\": {\"height\": 0.5, \"type\": \"RECTANGLE\", \"width\": 0.5, \"x\": 14.0, \"y\": 1.6}}, {\"id\": 65, \"shape\": {\"height\": 1.3, \"type\": \"RECTANGLE\", \"width\": 4.5, \"x\": 14.5, \"y\": 0.5}}, {\"id\": 66, \"shape\": {\"height\": 1.4, \"type\": \"RECTANGLE\", \"width\": 4.5, \"x\": 19.0, \"y\": 1.8}}, {\"id\": 103, \"shape\": {\"height\": 1.3, \"type\": \"RECTANGLE\", \"width\": 4.5, \"x\": 19.0, \"y\": 0.5}}, {\"id\": 122, \"shape\": {\"height\": 1.4, \"type\": \"RECTANGLE\", \"width\": 4.5, \"x\": 23.5, \"y\": 1.8}}, {\"id\": 123, \"shape\": {\"height\": 1.3, \"type\": \"RECTANGLE\", \"width\": 4.5, \"x\": 23.5, \"y\": 0.5}}], \"obstacles\": [{\"id\": 61, \"shape\": {\"height\": 1.0, \"type\": \"RECTANGLE\", \"width\": 0.3, \"x\": 14.1, \"y\": 2.2}}, {\"id\": 62, \"shape\": {\"height\": 1.0, \"type\": \"RECTANGLE\", \"width\": 0.3, \"x\": 14.1, \"y\": 0.5}}], \"sources\": [{\"attributesPedestrian\": null, \"distributionParameters\": {\"updateFrequency\": 1.0}, \"dynamicElementType\": \"PEDESTRIAN\", \"endTime\": 0.0, \"groupSizeDistribution\": [1.0], \"id\": 0, \"interSpawnTimeDistribution\": \"constant\", \"maxSpawnNumberTotal\": -1, \"shape\": {\"height\": 0.3829903978052127, \"type\": \"RECTANGLE\", \"width\": 1.2331961591220848, \"x\": 2.128257887517147, \"y\": 0.6170096021947873}, \"spawnAtGridPositionsCA\": false, \"spawnAtRandomPositions\": false, \"spawnNumber\": 17, \"startTime\": 0.0, \"targetIds\": [100, 101, 102, 103, 104, 105, 106, 107, 108, 109, 110, 111, 112, 113, 114, 115, 116, 117], \"useFreeSpaceOnly\": true}, {\"attributesPedestrian\": null, \"distributionParameters\": {\"updateFrequency\": 1.0}, \"dynamicElementType\": \"PEDESTRIAN\", \"endTime\": 0.0, \"groupSizeDistribution\": [1.0], \"id\": 1, \"interSpawnTimeDistribution\": \"constant\", \"maxSpawnNumberTotal\": -1, \"shape\": {\"height\": 0.4426611796982165, \"type\": \"RECTANGLE\", \"width\": 1.292866941015089, \"x\": 6.5836762688614545, \"y\": 0.5573388203017835}, \"spawnAtGridPositionsCA\": false, \"spawnAtRandomPositions\": false, \"spawnNumber\": 5, \"startTime\": 0.0, \"targetIds\": [118, 119, 120, 121, 122, 123, 124, 125, 126, 127, 128, 129, 130, 131, 132, 133, 134, 135], \"useFreeSpaceOnly\": true}, {\"attributesPedestrian\": null, \"distributionParameters\": {\"updateFrequency\": 1.0}, \"dynamicElementType\": \"PEDESTRIAN\", \"endTime\": 0.0, \"groupSizeDistribution\": [1.0], \"id\": 2, \"interSpawnTimeDistribution\": \"constant\", \"maxSpawnNumberTotal\": -1, \"shape\": {\"height\": 0.4426611796982165, \"type\": \"RECTANGLE\", \"width\": 1.1934156378600829, \"x\": 11.118655692729767, \"y\": 0.5573388203017835}, \"spawnAtGridPositionsCA\": false, \"spawnAtRandomPositions\": false, \"spawnNumber\": 2, \"startTime\": 0.0, \"targetIds\": [136, 137, 138, 139, 140, 141, 142, 143, 144, 145, 146, 147, 148, 149, 150, 151, 152, 153], \"useFreeSpaceOnly\": true}, {\"attributesPedestrian\": null, \"distributionParameters\": {\"updateFrequency\": 1.0}, \"dynamicElementType\": \"PEDESTRIAN\", \"endTime\": 0.0, \"groupSizeDistribution\": [1.0], \"id\": 3, \"interSpawnTimeDistribution\": \"constant\", \"maxSpawnNumberTotal\": -1, \"shape\": {\"height\": 0.4426611796982165, \"type\": \"RECTANGLE\", \"width\": 1.1934156378600829, \"x\": 16.118655692729767, \"y\": 0.5573388203017835}, \"spawnAtGridPositionsCA\": false, \"spawnAtRandomPositions\": false, \"spawnNumber\": 3, \"startTime\": 0.0, \"targetIds\": [200, 201, 202, 203, 204, 205, 206, 207, 208, 209, 210, 211, 212, 213, 214, 215, 216, 217], \"useFreeSpaceOnly\": true}, {\"attributesPedestrian\": null, \"distributionParameters\": {\"updateFrequency\": 1.0}, \"dynamicElementType\": \"PEDESTRIAN\", \"endTime\": 0.0, \"groupSizeDistribution\": [1.0], \"id\": 4, \"interSpawnTimeDistribution\": \"constant\", \"maxSpawnNumberTotal\": -1, \"shape\": {\"height\": 0.4447230795610424, \"type\": \"RECTANGLE\", \"width\": 1.193415637860081, \"x\": 20.61865569272977, \"y\": 0.5573388203017835}, \"spawnAtGridPositionsCA\": false, \"spawnAtRandomPositions\": false, \"spawnNumber\": 7, \"startTime\": 0.0, \"targetIds\": [218, 219, 220, 221, 222, 223, 224, 225, 226, 227, 228, 229, 230, 231, 232, 233, 234, 235], \"useFreeSpaceOnly\": true}, {\"attributesPedestrian\": null, \"distributionParameters\": {\"updateFrequency\": 1.0}, \"dynamicElementType\": \"PEDESTRIAN\", \"endTime\": 0.0, \"groupSizeDistribution\": [1.0], \"id\": 5, \"interSpawnTimeDistribution\": \"constant\", \"maxSpawnNumberTotal\": -1, \"shape\": {\"height\": 0.4, \"type\": \"RECTANGLE\", \"width\": 1.2701488911751255, \"x\": 25.129851108824873, \"y\": 0.6}, \"spawnAtGridPositionsCA\": false, \"spawnAtRandomPositions\": false, \"spawnNumber\": 16, \"startTime\": 0.0, \"targetIds\": [236, 237, 238, 239, 240, 241, 242, 243, 244, 245, 246, 247, 248, 249, 250, 251, 252, 253], \"useFreeSpaceOnly\": true}], \"stairs\": [], \"targetChangers\": [], \"targets\": [{\"absorbing\": false, \"deletionDistance\": 0.1, \"id\": 100, \"individualWaiting\": true, \"nextSpeed\": -1.0, \"parallelWaiters\": 0, \"shape\": {\"height\": 0.5, \"type\": \"RECTANGLE\", \"width\": 0.5, \"x\": 0.5, \"y\": 0.5}, \"startingWithRedLight\": false, \"waitingTime\": 2.0, \"waitingTimeYellowPhase\": 0.0}, {\"absorbing\": false, \"deletionDistance\": 0.1, \"id\": 101, \"individualWaiting\": true, \"nextSpeed\": -1.0, \"parallelWaiters\": 0, \"shape\": {\"height\": 0.5, \"type\": \"RECTANGLE\", \"width\": 0.5, \"x\": 1.5, \"y\": 0.5}, \"startingWithRedLight\": false, \"waitingTime\": 2.0, \"waitingTimeYellowPhase\": 0.0}, {\"absorbing\": false, \"deletionDistance\": 0.1, \"id\": 102, \"individualWaiting\": true, \"nextSpeed\": -1.0, \"parallelWaiters\": 0, \"shape\": {\"height\": 0.5, \"type\": \"RECTANGLE\", \"width\": 0.5, \"x\": 0.5, \"y\": 1.0}, \"startingWithRedLight\": false, \"waitingTime\": 2.0, \"waitingTimeYellowPhase\": 0.0}, {\"absorbing\": false, \"deletionDistance\": 0.1, \"id\": 103, \"individualWaiting\": true, \"nextSpeed\": -1.0, \"parallelWaiters\": 0, \"shape\": {\"height\": 0.5, \"type\": \"RECTANGLE\", \"width\": 0.5, \"x\": 1.5, \"y\": 1.0}, \"startingWithRedLight\": false, \"waitingTime\": 2.0, \"waitingTimeYellowPhase\": 0.0}, {\"absorbing\": false, \"deletionDistance\": 0.1, \"id\": 104, \"individualWaiting\": true, \"nextSpeed\": -1.0, \"parallelWaiters\": 0, \"shape\": {\"height\": 0.5, \"type\": \"RECTANGLE\", \"width\": 0.5, \"x\": 0.5, \"y\": 2.7}, \"startingWithRedLight\": false, \"waitingTime\": 2.0, \"waitingTimeYellowPhase\": 0.0}, {\"absorbing\": false, \"deletionDistance\": 0.1, \"id\": 105, \"individualWaiting\": true, \"nextSpeed\": -1.0, \"parallelWaiters\": 0, \"shape\": {\"height\": 0.5, \"type\": \"RECTANGLE\", \"width\": 0.5, \"x\": 0.5, \"y\": 2.2}, \"startingWithRedLight\": false, \"waitingTime\": 2.0, \"waitingTimeYellowPhase\": 0.0}, {\"absorbing\": false, \"deletionDistance\": 0.1, \"id\": 106, \"individualWaiting\": true, \"nextSpeed\": -1.0, \"parallelWaiters\": 0, \"shape\": {\"height\": 0.5, \"type\": \"RECTANGLE\", \"width\": 0.5, \"x\": 1.5, \"y\": 2.2}, \"startingWithRedLight\": false, \"waitingTime\": 2.0, \"waitingTimeYellowPhase\": 0.0}, {\"absorbing\": false, \"deletionDistance\": 0.1, \"id\": 107, \"individualWaiting\": true, \"nextSpeed\": -1.0, \"parallelWaiters\": 0, \"shape\": {\"height\": 0.5, \"type\": \"RECTANGLE\", \"width\": 0.5, \"x\": 1.5, \"y\": 2.7}, \"startingWithRedLight\": false, \"waitingTime\": 2.0, \"waitingTimeYellowPhase\": 0.0}, {\"absorbing\": false, \"deletionDistance\": 0.1, \"id\": 108, \"individualWaiting\": true, \"nextSpeed\": -1.0, \"parallelWaiters\": 0, \"shape\": {\"height\": 0.5, \"type\": \"RECTANGLE\", \"width\": 0.5, \"x\": 3.5, \"y\": 0.5}, \"startingWithRedLight\": false, \"waitingTime\": 2.0, \"waitingTimeYellowPhase\": 0.0}, {\"absorbing\": false, \"deletionDistance\": 0.1, \"id\": 109, \"individualWaiting\": true, \"nextSpeed\": -1.0, \"parallelWaiters\": 0, \"shape\": {\"height\": 0.5, \"type\": \"RECTANGLE\", \"width\": 0.5, \"x\": 4.5, \"y\": 0.5}, \"startingWithRedLight\": false, \"waitingTime\": 2.0, \"waitingTimeYellowPhase\": 0.0}, {\"absorbing\": false, \"deletionDistance\": 0.01, \"id\": 110, \"individualWaiting\": true, \"nextSpeed\": -1.0, \"parallelWaiters\": 0, \"shape\": {\"height\": 0.5, \"type\": \"RECTANGLE\", \"width\": 0.5, \"x\": 4.5, \"y\": 1.0}, \"startingWithRedLight\": false, \"waitingTime\": 2.0, \"waitingTimeYellowPhase\": 0.0}, {\"absorbing\": false, \"deletionDistance\": 0.1, \"id\": 111, \"individualWaiting\": true, \"nextSpeed\": -1.0, \"parallelWaiters\": 0, \"shape\": {\"height\": 0.5, \"type\": \"RECTANGLE\", \"width\": 0.5, \"x\": 3.5, \"y\": 1.0}, \"startingWithRedLight\": false, \"waitingTime\": 2.0, \"waitingTimeYellowPhase\": 0.0}, {\"absorbing\": false, \"deletionDistance\": 0.1, \"id\": 112, \"individualWaiting\": true, \"nextSpeed\": -1.0, \"parallelWaiters\": 0, \"shape\": {\"height\": 0.5, \"type\": \"RECTANGLE\", \"width\": 0.5, \"x\": 3.5, \"y\": 2.7}, \"startingWithRedLight\": false, \"waitingTime\": 2.0, \"waitingTimeYellowPhase\": 0.0}, {\"absorbing\": false, \"deletionDistance\": 0.1, \"id\": 113, \"individualWaiting\": true, \"nextSpeed\": -1.0, \"parallelWaiters\": 0, \"shape\": {\"height\": 0.5, \"type\": \"RECTANGLE\", \"width\": 0.5, \"x\": 3.5, \"y\": 2.2}, \"startingWithRedLight\": false, \"waitingTime\": 2.0, \"waitingTimeYellowPhase\": 0.0}, {\"absorbing\": false, \"deletionDistance\": 0.1, \"id\": 114, \"individualWaiting\": true, \"nextSpeed\": -1.0, \"parallelWaiters\": 0, \"shape\": {\"height\": 0.5, \"type\": \"RECTANGLE\", \"width\": 0.5, \"x\": 4.5, \"y\": 2.7}, \"startingWithRedLight\": false, \"waitingTime\": 2.0, \"waitingTimeYellowPhase\": 0.0}, {\"absorbing\": false, \"deletionDistance\": 0.1, \"id\": 115, \"individualWaiting\": true, \"nextSpeed\": -1.0, \"parallelWaiters\": 0, \"shape\": {\"height\": 0.5, \"type\": \"RECTANGLE\", \"width\": 0.5, \"x\": 4.5, \"y\": 2.2}, \"startingWithRedLight\": false, \"waitingTime\": 2.0, \"waitingTimeYellowPhase\": 0.0}, {\"absorbing\": false, \"deletionDistance\": 0.1, \"id\": 116, \"individualWaiting\": true, \"nextSpeed\": -1.0, \"parallelWaiters\": 0, \"shape\": {\"height\": 0.5, \"type\": \"RECTANGLE\", \"width\": 0.5, \"x\": 5.0, \"y\": 2.7}, \"startingWithRedLight\": false, \"waitingTime\": 2.0, \"waitingTimeYellowPhase\": 0.0}, {\"absorbing\": false, \"deletionDistance\": 0.1, \"id\": 117, \"individualWaiting\": true, \"nextSpeed\": -1.0, \"parallelWaiters\": 0, \"shape\": {\"height\": 0.5, \"type\": \"RECTANGLE\", \"width\": 0.5, \"x\": 5.0, \"y\": 2.2}, \"startingWithRedLight\": false, \"waitingTime\": 2.0, \"waitingTimeYellowPhase\": 0.0}, {\"absorbing\": false, \"deletionDistance\": 0.1, \"id\": 118, \"individualWaiting\": true, \"nextSpeed\": -1.0, \"parallelWaiters\": 0, \"shape\": {\"height\": 0.5, \"type\": \"RECTANGLE\", \"width\": 0.5, \"x\": 5.0, \"y\": 1.0}, \"startingWithRedLight\": false, \"waitingTime\": 2.0, \"waitingTimeYellowPhase\": 0.0}, {\"absorbing\": false, \"deletionDistance\": 0.1, \"id\": 119, \"individualWaiting\": true, \"nextSpeed\": -1.0, \"parallelWaiters\": 0, \"shape\": {\"height\": 0.5, \"type\": \"RECTANGLE\", \"width\": 0.5, \"x\": 5.0, \"y\": 0.5}, \"startingWithRedLight\": false, \"waitingTime\": 2.0, \"waitingTimeYellowPhase\": 0.0}, {\"absorbing\": false, \"deletionDistance\": 0.1, \"id\": 120, \"individualWaiting\": true, \"nextSpeed\": -1.0, \"parallelWaiters\": 0, \"shape\": {\"height\": 0.5, \"type\": \"RECTANGLE\", \"width\": 0.5, \"x\": 6.0, \"y\": 0.5}, \"startingWithRedLight\": false, \"waitingTime\": 2.0, \"waitingTimeYellowPhase\": 0.0}, {\"absorbing\": false, \"deletionDistance\": 0.1, \"id\": 121, \"individualWaiting\": true, \"nextSpeed\": -1.0, \"parallelWaiters\": 0, \"shape\": {\"height\": 0.5, \"type\": \"RECTANGLE\", \"width\": 0.5, \"x\": 6.0, \"y\": 1.0}, \"startingWithRedLight\": false, \"waitingTime\": 2.0, \"waitingTimeYellowPhase\": 0.0}, {\"absorbing\": false, \"deletionDistance\": 0.1, \"id\": 122, \"individualWaiting\": true, \"nextSpeed\": -1.0, \"parallelWaiters\": 0, \"shape\": {\"height\": 0.5, \"type\": \"RECTANGLE\", \"width\": 0.5, \"x\": 6.0, \"y\": 2.2}, \"startingWithRedLight\": false, \"waitingTime\": 2.0, \"waitingTimeYellowPhase\": 0.0}, {\"absorbing\": false, \"deletionDistance\": 0.1, \"id\": 123, \"individualWaiting\": true, \"nextSpeed\": -1.0, \"parallelWaiters\": 0, \"shape\": {\"height\": 0.5, \"type\": \"RECTANGLE\", \"width\": 0.5, \"x\": 6.0, \"y\": 2.7}, \"startingWithRedLight\": false, \"waitingTime\": 2.0, \"waitingTimeYellowPhase\": 0.0}, {\"absorbing\": false, \"deletionDistance\": 0.1, \"id\": 124, \"individualWaiting\": true, \"nextSpeed\": -1.0, \"parallelWaiters\": 0, \"shape\": {\"height\": 0.5, \"type\": \"RECTANGLE\", \"width\": 0.5, \"x\": 8.0, \"y\": 0.5}, \"startingWithRedLight\": false, \"waitingTime\": 2.0, \"waitingTimeYellowPhase\": 0.0}, {\"absorbing\": false, \"deletionDistance\": 0.1, \"id\": 125, \"individualWaiting\": true, \"nextSpeed\": -1.0, \"parallelWaiters\": 0, \"shape\": {\"height\": 0.5, \"type\": \"RECTANGLE\", \"width\": 0.5, \"x\": 8.0, \"y\": 1.0}, \"startingWithRedLight\": false, \"waitingTime\": 2.0, \"waitingTimeYellowPhase\": 0.0}, {\"absorbing\": false, \"deletionDistance\": 0.1, \"id\": 126, \"individualWaiting\": true, \"nextSpeed\": -1.0, \"parallelWaiters\": 0, \"shape\": {\"height\": 0.5, \"type\": \"RECTANGLE\", \"width\": 0.5, \"x\": 8.0, \"y\": 2.7}, \"startingWithRedLight\": false, \"waitingTime\": 2.0, \"waitingTimeYellowPhase\": 0.0}, {\"absorbing\": false, \"deletionDistance\": 0.1, \"id\": 127, \"individualWaiting\": true, \"nextSpeed\": -1.0, \"parallelWaiters\": 0, \"shape\": {\"height\": 0.5, \"type\": \"RECTANGLE\", \"width\": 0.5, \"x\": 8.0, \"y\": 2.2}, \"startingWithRedLight\": false, \"waitingTime\": 2.0, \"waitingTimeYellowPhase\": 0.0}, {\"absorbing\": false, \"deletionDistance\": 0.1, \"id\": 128, \"individualWaiting\": true, \"nextSpeed\": -1.0, \"parallelWaiters\": 0, \"shape\": {\"height\": 0.5, \"type\": \"RECTANGLE\", \"width\": 0.5, \"x\": 10.5, \"y\": 0.5}, \"startingWithRedLight\": false, \"waitingTime\": 2.0, \"waitingTimeYellowPhase\": 0.0}, {\"absorbing\": false, \"deletionDistance\": 0.1, \"id\": 129, \"individualWaiting\": true, \"nextSpeed\": -1.0, \"parallelWaiters\": 0, \"shape\": {\"height\": 0.5, \"type\": \"RECTANGLE\", \"width\": 0.5, \"x\": 9.5, \"y\": 0.5}, \"startingWithRedLight\": false, \"waitingTime\": 2.0, \"waitingTimeYellowPhase\": 0.0}, {\"absorbing\": false, \"deletionDistance\": 0.1, \"id\": 130, \"individualWaiting\": true, \"nextSpeed\": -1.0, \"parallelWaiters\": 0, \"shape\": {\"height\": 0.5, \"type\": \"RECTANGLE\", \"width\": 0.5, \"x\": 9.0, \"y\": 0.5}, \"startingWithRedLight\": false, \"waitingTime\": 2.0, \"waitingTimeYellowPhase\": 0.0}, {\"absorbing\": false, \"deletionDistance\": 0.1, \"id\": 131, \"individualWaiting\": true, \"nextSpeed\": -1.0, \"parallelWaiters\": 0, \"shape\": {\"height\": 0.5, \"type\": \"RECTANGLE\", \"width\": 0.5, \"x\": 9.0, \"y\": 1.0}, \"startingWithRedLight\": false, \"waitingTime\": 2.0, \"waitingTimeYellowPhase\": 0.0}, {\"absorbing\": false, \"deletionDistance\": 0.1, \"id\": 132, \"individualWaiting\": true, \"nextSpeed\": -1.0, \"parallelWaiters\": 0, \"shape\": {\"height\": 0.5, \"type\": \"RECTANGLE\", \"width\": 0.5, \"x\": 9.5, \"y\": 1.0}, \"startingWithRedLight\": false, \"waitingTime\": 2.0, \"waitingTimeYellowPhase\": 0.0}, {\"absorbing\": false, \"deletionDistance\": 0.1, \"id\": 133, \"individualWaiting\": true, \"nextSpeed\": -1.0, \"parallelWaiters\": 0, \"shape\": {\"height\": 0.5, \"type\": \"RECTANGLE\", \"width\": 0.5, \"x\": 9.0, \"y\": 2.7}, \"startingWithRedLight\": false, \"waitingTime\": 2.0, \"waitingTimeYellowPhase\": 0.0}, {\"absorbing\": false, \"deletionDistance\": 0.1, \"id\": 134, \"individualWaiting\": true, \"nextSpeed\": -1.0, \"parallelWaiters\": 0, \"shape\": {\"height\": 0.5, \"type\": \"RECTANGLE\", \"width\": 0.5, \"x\": 9.0, \"y\": 2.2}, \"startingWithRedLight\": false, \"waitingTime\": 2.0, \"waitingTimeYellowPhase\": 0.0}, {\"absorbing\": false, \"deletionDistance\": 0.1, \"id\": 135, \"individualWaiting\": true, \"nextSpeed\": -1.0, \"parallelWaiters\": 0, \"shape\": {\"height\": 0.5, \"type\": \"RECTANGLE\", \"width\": 0.5, \"x\": 9.5, \"y\": 2.7}, \"startingWithRedLight\": false, \"waitingTime\": 2.0, \"waitingTimeYellowPhase\": 0.0}, {\"absorbing\": false, \"deletionDistance\": 0.1, \"id\": 136, \"individualWaiting\": true, \"nextSpeed\": -1.0, \"parallelWaiters\": 0, \"shape\": {\"height\": 0.5, \"type\": \"RECTANGLE\", \"width\": 0.5, \"x\": 9.5, \"y\": 2.2}, \"startingWithRedLight\": false, \"waitingTime\": 2.0, \"waitingTimeYellowPhase\": 0.0}, {\"absorbing\": false, \"deletionDistance\": 0.1, \"id\": 137, \"individualWaiting\": true, \"nextSpeed\": -1.0, \"parallelWaiters\": 0, \"shape\": {\"height\": 0.5, \"type\": \"RECTANGLE\", \"width\": 0.5, \"x\": 10.5, \"y\": 1.0}, \"startingWithRedLight\": false, \"waitingTime\": 2.0, \"waitingTimeYellowPhase\": 0.0}, {\"absorbing\": false, \"deletionDistance\": 0.1, \"id\": 138, \"individualWaiting\": true, \"nextSpeed\": -1.0, \"parallelWaiters\": 0, \"shape\": {\"height\": 0.5, \"type\": \"RECTANGLE\", \"width\": 0.5, \"x\": 10.5, \"y\": 2.7}, \"startingWithRedLight\": false, \"waitingTime\": 2.0, \"waitingTimeYellowPhase\": 0.0}, {\"absorbing\": false, \"deletionDistance\": 0.1, \"id\": 139, \"individualWaiting\": true, \"nextSpeed\": -1.0, \"parallelWaiters\": 0, \"shape\": {\"height\": 0.5, \"type\": \"RECTANGLE\", \"width\": 0.5, \"x\": 10.5, \"y\": 2.2}, \"startingWithRedLight\": false, \"waitingTime\": 2.0, \"waitingTimeYellowPhase\": 0.0}, {\"absorbing\": false, \"deletionDistance\": 0.1, \"id\": 140, \"individualWaiting\": true, \"nextSpeed\": -1.0, \"parallelWaiters\": 0, \"shape\": {\"height\": 0.5, \"type\": \"RECTANGLE\", \"width\": 0.5, \"x\": 12.4, \"y\": 0.5}, \"startingWithRedLight\": false, \"waitingTime\": 2.0, \"waitingTimeYellowPhase\": 0.0}, {\"absorbing\": false, \"deletionDistance\": 0.1, \"id\": 141, \"individualWaiting\": true, \"nextSpeed\": -1.0, \"parallelWaiters\": 0, \"shape\": {\"height\": 0.5, \"type\": \"RECTANGLE\", \"width\": 0.5, \"x\": 12.4, \"y\": 1.0}, \"startingWithRedLight\": false, \"waitingTime\": 2.0, \"waitingTimeYellowPhase\": 0.0}, {\"absorbing\": false, \"deletionDistance\": 0.1, \"id\": 142, \"individualWaiting\": true, \"nextSpeed\": -1.0, \"parallelWaiters\": 0, \"shape\": {\"height\": 0.5, \"type\": \"RECTANGLE\", \"width\": 0.5, \"x\": 13.5, \"y\": 0.5}, \"startingWithRedLight\": false, \"waitingTime\": 2.0, \"waitingTimeYellowPhase\": 0.0}, {\"absorbing\": false, \"deletionDistance\": 0.1, \"id\": 143, \"individualWaiting\": true, \"nextSpeed\": -1.0, \"parallelWaiters\": 0, \"shape\": {\"height\": 0.5, \"type\": \"RECTANGLE\", \"width\": 0.5, \"x\": 13.5, \"y\": 1.0}, \"startingWithRedLight\": false, \"waitingTime\": 2.0, \"waitingTimeYellowPhase\": 0.0}, {\"absorbing\": false, \"deletionDistance\": 0.1, \"id\": 144, \"individualWaiting\": true, \"nextSpeed\": -1.0, \"parallelWaiters\": 0, \"shape\": {\"height\": 0.5, \"type\": \"RECTANGLE\", \"width\": 0.5, \"x\": 13.5, \"y\": 2.7}, \"startingWithRedLight\": false, \"waitingTime\": 2.0, \"waitingTimeYellowPhase\": 0.0}, {\"absorbing\": false, \"deletionDistance\": 0.1, \"id\": 145, \"individualWaiting\": true, \"nextSpeed\": -1.0, \"parallelWaiters\": 0, \"shape\": {\"height\": 0.5, \"type\": \"RECTANGLE\", \"width\": 0.5, \"x\": 13.5, \"y\": 2.2}, \"startingWithRedLight\": false, \"waitingTime\": 2.0, \"waitingTimeYellowPhase\": 0.0}, {\"absorbing\": false, \"deletionDistance\": 0.1, \"id\": 146, \"individualWaiting\": true, \"nextSpeed\": -1.0, \"parallelWaiters\": 0, \"shape\": {\"height\": 0.5, \"type\": \"RECTANGLE\", \"width\": 0.5, \"x\": 12.4, \"y\": 2.2}, \"startingWithRedLight\": false, \"waitingTime\": 2.0, \"waitingTimeYellowPhase\": 0.0}, {\"absorbing\": false, \"deletionDistance\": 0.1, \"id\": 147, \"individualWaiting\": true, \"nextSpeed\": -1.0, \"parallelWaiters\": 0, \"shape\": {\"height\": 0.5, \"type\": \"RECTANGLE\", \"width\": 0.5, \"x\": 12.4, \"y\": 2.7}, \"startingWithRedLight\": false, \"waitingTime\": 2.0, \"waitingTimeYellowPhase\": 0.0}, {\"absorbing\": false, \"deletionDistance\": 0.1, \"id\": 148, \"individualWaiting\": true, \"nextSpeed\": -1.0, \"parallelWaiters\": 0, \"shape\": {\"height\": 0.1, \"type\": \"RECTANGLE\", \"width\": 0.1, \"x\": 2.7, \"y\": 2.7}, \"startingWithRedLight\": false, \"waitingTime\": 2.0, \"waitingTimeYellowPhase\": 0.0}, {\"absorbing\": false, \"deletionDistance\": 0.1, \"id\": 149, \"individualWaiting\": true, \"nextSpeed\": -1.0, \"parallelWaiters\": 0, \"shape\": {\"height\": 0.1, \"type\": \"RECTANGLE\", \"width\": 0.1, \"x\": 2.7, \"y\": 1.2}, \"startingWithRedLight\": false, \"waitingTime\": 2.0, \"waitingTimeYellowPhase\": 0.0}, {\"absorbing\": false, \"deletionDistance\": 0.1, \"id\": 150, \"individualWaiting\": true, \"nextSpeed\": -1.0, \"parallelWaiters\": 0, \"shape\": {\"height\": 0.1, \"type\": \"RECTANGLE\", \"width\": 0.1, \"x\": 7.2, \"y\": 2.7}, \"startingWithRedLight\": false, \"waitingTime\": 2.0, \"waitingTimeYellowPhase\": 0.0}, {\"absorbing\": false, \"deletionDistance\": 0.1, \"id\": 151, \"individualWaiting\": true, \"nextSpeed\": -1.0, \"parallelWaiters\": 0, \"shape\": {\"height\": 0.1, \"type\": \"RECTANGLE\", \"width\": 0.1, \"x\": 7.2, \"y\": 1.2}, \"startingWithRedLight\": false, \"waitingTime\": 2.0, \"waitingTimeYellowPhase\": 0.0}, {\"absorbing\": false, \"deletionDistance\": 0.1, \"id\": 152, \"individualWaiting\": true, \"nextSpeed\": -1.0, \"parallelWaiters\": 0, \"shape\": {\"height\": 0.1, \"type\": \"RECTANGLE\", \"width\": 0.1, \"x\": 11.7, \"y\": 2.7}, \"startingWithRedLight\": false, \"waitingTime\": 2.0, \"waitingTimeYellowPhase\": 0.0}, {\"absorbing\": false, \"deletionDistance\": 0.1, \"id\": 153, \"individualWaiting\": true, \"nextSpeed\": -1.0, \"parallelWaiters\": 0, \"shape\": {\"height\": 0.1, \"type\": \"RECTANGLE\", \"width\": 0.1, \"x\": 11.7, \"y\": 1.2}, \"startingWithRedLight\": false, \"waitingTime\": 2.0, \"waitingTimeYellowPhase\": 0.0}, {\"absorbing\": false, \"deletionDistance\": 0.1, \"id\": 200, \"individualWaiting\": true, \"nextSpeed\": -1.0, \"parallelWaiters\": 0, \"shape\": {\"height\": 0.5, \"type\": \"RECTANGLE\", \"width\": 0.5, \"x\": 14.5, \"y\": 0.5}, \"startingWithRedLight\": false, \"waitingTime\": 0.0, \"waitingTimeYellowPhase\": 0.0}, {\"absorbing\": false, \"deletionDistance\": 0.1, \"id\": 201, \"individualWaiting\": true, \"nextSpeed\": -1.0, \"parallelWaiters\": 0, \"shape\": {\"height\": 0.5, \"type\": \"RECTANGLE\", \"width\": 0.5, \"x\": 14.5, \"y\": 1.0}, \"startingWithRedLight\": false, \"waitingTime\": 0.0, \"waitingTimeYellowPhase\": 0.0}, {\"absorbing\": false, \"deletionDistance\": 0.1, \"id\": 202, \"individualWaiting\": true, \"nextSpeed\": -1.0, \"parallelWaiters\": 0, \"shape\": {\"height\": 0.5, \"type\": \"RECTANGLE\", \"width\": 0.5, \"x\": 14.5, \"y\": 2.2}, \"startingWithRedLight\": false, \"waitingTime\": 0.0, \"waitingTimeYellowPhase\": 0.0}, {\"absorbing\": false, \"deletionDistance\": 0.1, \"id\": 203, \"individualWaiting\": true, \"nextSpeed\": -1.0, \"parallelWaiters\": 0, \"shape\": {\"height\": 0.5, \"type\": \"RECTANGLE\", \"width\": 0.5, \"x\": 14.5, \"y\": 2.7}, \"startingWithRedLight\": false, \"waitingTime\": 0.0, \"waitingTimeYellowPhase\": 0.0}, {\"absorbing\": false, \"deletionDistance\": 0.1, \"id\": 204, \"individualWaiting\": true, \"nextSpeed\": -1.0, \"parallelWaiters\": 0, \"shape\": {\"height\": 0.5, \"type\": \"RECTANGLE\", \"width\": 0.5, \"x\": 15.5, \"y\": 0.5}, \"startingWithRedLight\": false, \"waitingTime\": 0.0, \"waitingTimeYellowPhase\": 0.0}, {\"absorbing\": false, \"deletionDistance\": 0.1, \"id\": 205, \"individualWaiting\": true, \"nextSpeed\": -1.0, \"parallelWaiters\": 0, \"shape\": {\"height\": 0.5, \"type\": \"RECTANGLE\", \"width\": 0.5, \"x\": 15.5, \"y\": 1.0}, \"startingWithRedLight\": false, \"waitingTime\": 0.0, \"waitingTimeYellowPhase\": 0.0}, {\"absorbing\": false, \"deletionDistance\": 0.1, \"id\": 206, \"individualWaiting\": true, \"nextSpeed\": -1.0, \"parallelWaiters\": 0, \"shape\": {\"height\": 0.5, \"type\": \"RECTANGLE\", \"width\": 0.5, \"x\": 15.5, \"y\": 2.2}, \"startingWithRedLight\": false, \"waitingTime\": 0.0, \"waitingTimeYellowPhase\": 0.0}, {\"absorbing\": false, \"deletionDistance\": 0.1, \"id\": 207, \"individualWaiting\": true, \"nextSpeed\": -1.0, \"parallelWaiters\": 0, \"shape\": {\"height\": 0.5, \"type\": \"RECTANGLE\", \"width\": 0.5, \"x\": 15.5, \"y\": 2.7}, \"startingWithRedLight\": false, \"waitingTime\": 0.0, \"waitingTimeYellowPhase\": 0.0}, {\"absorbing\": false, \"deletionDistance\": 0.1, \"id\": 208, \"individualWaiting\": true, \"nextSpeed\": -1.0, \"parallelWaiters\": 0, \"shape\": {\"height\": 0.5, \"type\": \"RECTANGLE\", \"width\": 0.5, \"x\": 17.5, \"y\": 0.5}, \"startingWithRedLight\": false, \"waitingTime\": 0.0, \"waitingTimeYellowPhase\": 0.0}, {\"absorbing\": false, \"deletionDistance\": 0.1, \"id\": 209, \"individualWaiting\": true, \"nextSpeed\": -1.0, \"parallelWaiters\": 0, \"shape\": {\"height\": 0.5, \"type\": \"RECTANGLE\", \"width\": 0.5, \"x\": 17.5, \"y\": 1.0}, \"startingWithRedLight\": false, \"waitingTime\": 0.0, \"waitingTimeYellowPhase\": 0.0}, {\"absorbing\": false, \"deletionDistance\": 0.1, \"id\": 210, \"individualWaiting\": true, \"nextSpeed\": -1.0, \"parallelWaiters\": 0, \"shape\": {\"height\": 0.5, \"type\": \"RECTANGLE\", \"width\": 0.5, \"x\": 17.5, \"y\": 2.7}, \"startingWithRedLight\": false, \"waitingTime\": 0.0, \"waitingTimeYellowPhase\": 0.0}, {\"absorbing\": false, \"deletionDistance\": 0.1, \"id\": 211, \"individualWaiting\": true, \"nextSpeed\": -1.0, \"parallelWaiters\": 0, \"shape\": {\"height\": 0.5, \"type\": \"RECTANGLE\", \"width\": 0.5, \"x\": 17.5, \"y\": 2.2}, \"startingWithRedLight\": false, \"waitingTime\": 0.0, \"waitingTimeYellowPhase\": 0.0}, {\"absorbing\": false, \"deletionDistance\": 0.1, \"id\": 212, \"individualWaiting\": true, \"nextSpeed\": -1.0, \"parallelWaiters\": 0, \"shape\": {\"height\": 0.5, \"type\": \"RECTANGLE\", \"width\": 0.5, \"x\": 18.5, \"y\": 0.5}, \"startingWithRedLight\": false, \"waitingTime\": 0.0, \"waitingTimeYellowPhase\": 0.0}, {\"absorbing\": false, \"deletionDistance\": 0.1, \"id\": 213, \"individualWaiting\": true, \"nextSpeed\": -1.0, \"parallelWaiters\": 0, \"shape\": {\"height\": 0.5, \"type\": \"RECTANGLE\", \"width\": 0.5, \"x\": 18.5, \"y\": 1.0}, \"startingWithRedLight\": false, \"waitingTime\": 0.0, \"waitingTimeYellowPhase\": 0.0}, {\"absorbing\": false, \"deletionDistance\": 0.1, \"id\": 214, \"individualWaiting\": true, \"nextSpeed\": -1.0, \"parallelWaiters\": 0, \"shape\": {\"height\": 0.5, \"type\": \"RECTANGLE\", \"width\": 0.5, \"x\": 18.5, \"y\": 2.7}, \"startingWithRedLight\": false, \"waitingTime\": 0.0, \"waitingTimeYellowPhase\": 0.0}, {\"absorbing\": false, \"deletionDistance\": 0.1, \"id\": 215, \"individualWaiting\": true, \"nextSpeed\": -1.0, \"parallelWaiters\": 0, \"shape\": {\"height\": 0.5, \"type\": \"RECTANGLE\", \"width\": 0.5, \"x\": 18.5, \"y\": 2.2}, \"startingWithRedLight\": false, \"waitingTime\": 0.0, \"waitingTimeYellowPhase\": 0.0}, {\"absorbing\": false, \"deletionDistance\": 0.1, \"id\": 216, \"individualWaiting\": true, \"nextSpeed\": -1.0, \"parallelWaiters\": 0, \"shape\": {\"height\": 0.5, \"type\": \"RECTANGLE\", \"width\": 0.5, \"x\": 19.0, \"y\": 1.0}, \"startingWithRedLight\": false, \"waitingTime\": 0.0, \"waitingTimeYellowPhase\": 0.0}, {\"absorbing\": false, \"deletionDistance\": 0.1, \"id\": 217, \"individualWaiting\": true, \"nextSpeed\": -1.0, \"parallelWaiters\": 0, \"shape\": {\"height\": 0.5, \"type\": \"RECTANGLE\", \"width\": 0.5, \"x\": 19.0, \"y\": 0.5}, \"startingWithRedLight\": false, \"waitingTime\": 0.0, \"waitingTimeYellowPhase\": 0.0}, {\"absorbing\": false, \"deletionDistance\": 0.1, \"id\": 218, \"individualWaiting\": true, \"nextSpeed\": -1.0, \"parallelWaiters\": 0, \"shape\": {\"height\": 0.5, \"type\": \"RECTANGLE\", \"width\": 0.5, \"x\": 19.0, \"y\": 2.2}, \"startingWithRedLight\": false, \"waitingTime\": 0.0, \"waitingTimeYellowPhase\": 0.0}, {\"absorbing\": false, \"deletionDistance\": 0.1, \"id\": 219, \"individualWaiting\": true, \"nextSpeed\": -1.0, \"parallelWaiters\": 0, \"shape\": {\"height\": 0.5, \"type\": \"RECTANGLE\", \"width\": 0.5, \"x\": 19.0, \"y\": 2.7}, \"startingWithRedLight\": false, \"waitingTime\": 0.0, \"waitingTimeYellowPhase\": 0.0}, {\"absorbing\": false, \"deletionDistance\": 0.1, \"id\": 220, \"individualWaiting\": true, \"nextSpeed\": -1.0, \"parallelWaiters\": 0, \"shape\": {\"height\": 0.5, \"type\": \"RECTANGLE\", \"width\": 0.5, \"x\": 20.0, \"y\": 2.7}, \"startingWithRedLight\": false, \"waitingTime\": 0.0, \"waitingTimeYellowPhase\": 0.0}, {\"absorbing\": false, \"deletionDistance\": 0.1, \"id\": 221, \"individualWaiting\": true, \"nextSpeed\": -1.0, \"parallelWaiters\": 0, \"shape\": {\"height\": 0.5, \"type\": \"RECTANGLE\", \"width\": 0.5, \"x\": 20.0, \"y\": 2.2}, \"startingWithRedLight\": false, \"waitingTime\": 0.0, \"waitingTimeYellowPhase\": 0.0}, {\"absorbing\": false, \"deletionDistance\": 0.1, \"id\": 222, \"individualWaiting\": true, \"nextSpeed\": -1.0, \"parallelWaiters\": 0, \"shape\": {\"height\": 0.5, \"type\": \"RECTANGLE\", \"width\": 0.5, \"x\": 20.0, \"y\": 1.0}, \"startingWithRedLight\": false, \"waitingTime\": 0.0, \"waitingTimeYellowPhase\": 0.0}, {\"absorbing\": false, \"deletionDistance\": 0.1, \"id\": 223, \"individualWaiting\": true, \"nextSpeed\": -1.0, \"parallelWaiters\": 0, \"shape\": {\"height\": 0.5, \"type\": \"RECTANGLE\", \"width\": 0.5, \"x\": 20.0, \"y\": 0.5}, \"startingWithRedLight\": false, \"waitingTime\": 0.0, \"waitingTimeYellowPhase\": 0.0}, {\"absorbing\": false, \"deletionDistance\": 0.1, \"id\": 224, \"individualWaiting\": true, \"nextSpeed\": -1.0, \"parallelWaiters\": 0, \"shape\": {\"height\": 0.5, \"type\": \"RECTANGLE\", \"width\": 0.5, \"x\": 22.0, \"y\": 0.5}, \"startingWithRedLight\": false, \"waitingTime\": 0.0, \"waitingTimeYellowPhase\": 0.0}, {\"absorbing\": false, \"deletionDistance\": 0.1, \"id\": 225, \"individualWaiting\": true, \"nextSpeed\": -1.0, \"parallelWaiters\": 0, \"shape\": {\"height\": 0.5, \"type\": \"RECTANGLE\", \"width\": 0.5, \"x\": 22.0, \"y\": 1.0}, \"startingWithRedLight\": false, \"waitingTime\": 0.0, \"waitingTimeYellowPhase\": 0.0}, {\"absorbing\": false, \"deletionDistance\": 0.1, \"id\": 226, \"individualWaiting\": true, \"nextSpeed\": -1.0, \"parallelWaiters\": 0, \"shape\": {\"height\": 0.5, \"type\": \"RECTANGLE\", \"width\": 0.5, \"x\": 22.0, \"y\": 2.7}, \"startingWithRedLight\": false, \"waitingTime\": 0.0, \"waitingTimeYellowPhase\": 0.0}, {\"absorbing\": false, \"deletionDistance\": 0.1, \"id\": 227, \"individualWaiting\": true, \"nextSpeed\": -1.0, \"parallelWaiters\": 0, \"shape\": {\"height\": 0.5, \"type\": \"RECTANGLE\", \"width\": 0.5, \"x\": 22.0, \"y\": 2.2}, \"startingWithRedLight\": false, \"waitingTime\": 0.0, \"waitingTimeYellowPhase\": 0.0}, {\"absorbing\": false, \"deletionDistance\": 0.1, \"id\": 228, \"individualWaiting\": true, \"nextSpeed\": -1.0, \"parallelWaiters\": 0, \"shape\": {\"height\": 0.5, \"type\": \"RECTANGLE\", \"width\": 0.5, \"x\": 23.0, \"y\": 0.5}, \"startingWithRedLight\": false, \"waitingTime\": 0.0, \"waitingTimeYellowPhase\": 0.0}, {\"absorbing\": false, \"deletionDistance\": 0.1, \"id\": 229, \"individualWaiting\": true, \"nextSpeed\": -1.0, \"parallelWaiters\": 0, \"shape\": {\"height\": 0.5, \"type\": \"RECTANGLE\", \"width\": 0.5, \"x\": 23.0, \"y\": 1.0}, \"startingWithRedLight\": false, \"waitingTime\": 0.0, \"waitingTimeYellowPhase\": 0.0}, {\"absorbing\": false, \"deletionDistance\": 0.1, \"id\": 230, \"individualWaiting\": true, \"nextSpeed\": -1.0, \"parallelWaiters\": 0, \"shape\": {\"height\": 0.5, \"type\": \"RECTANGLE\", \"width\": 0.5, \"x\": 23.0, \"y\": 2.2}, \"startingWithRedLight\": false, \"waitingTime\": 0.0, \"waitingTimeYellowPhase\": 0.0}, {\"absorbing\": false, \"deletionDistance\": 0.1, \"id\": 231, \"individualWaiting\": true, \"nextSpeed\": -1.0, \"parallelWaiters\": 0, \"shape\": {\"height\": 0.5, \"type\": \"RECTANGLE\", \"width\": 0.5, \"x\": 23.0, \"y\": 2.7}, \"startingWithRedLight\": false, \"waitingTime\": 0.0, \"waitingTimeYellowPhase\": 0.0}, {\"absorbing\": false, \"deletionDistance\": 0.1, \"id\": 232, \"individualWaiting\": true, \"nextSpeed\": -1.0, \"parallelWaiters\": 0, \"shape\": {\"height\": 0.5, \"type\": \"RECTANGLE\", \"width\": 0.5, \"x\": 23.5, \"y\": 0.5}, \"startingWithRedLight\": false, \"waitingTime\": 0.0, \"waitingTimeYellowPhase\": 0.0}, {\"absorbing\": false, \"deletionDistance\": 0.1, \"id\": 233, \"individualWaiting\": true, \"nextSpeed\": -1.0, \"parallelWaiters\": 0, \"shape\": {\"height\": 0.5, \"type\": \"RECTANGLE\", \"width\": 0.5, \"x\": 23.5, \"y\": 1.0}, \"startingWithRedLight\": false, \"waitingTime\": 0.0, \"waitingTimeYellowPhase\": 0.0}, {\"absorbing\": false, \"deletionDistance\": 0.1, \"id\": 234, \"individualWaiting\": true, \"nextSpeed\": -1.0, \"parallelWaiters\": 0, \"shape\": {\"height\": 0.5, \"type\": \"RECTANGLE\", \"width\": 0.5, \"x\": 23.5, \"y\": 2.2}, \"startingWithRedLight\": false, \"waitingTime\": 0.0, \"waitingTimeYellowPhase\": 0.0}, {\"absorbing\": false, \"deletionDistance\": 0.1, \"id\": 235, \"individualWaiting\": true, \"nextSpeed\": -1.0, \"parallelWaiters\": 0, \"shape\": {\"height\": 0.5, \"type\": \"RECTANGLE\", \"width\": 0.5, \"x\": 23.5, \"y\": 2.7}, \"startingWithRedLight\": false, \"waitingTime\": 0.0, \"waitingTimeYellowPhase\": 0.0}, {\"absorbing\": false, \"deletionDistance\": 0.1, \"id\": 236, \"individualWaiting\": true, \"nextSpeed\": -1.0, \"parallelWaiters\": 0, \"shape\": {\"height\": 0.5, \"type\": \"RECTANGLE\", \"width\": 0.5, \"x\": 24.5, \"y\": 0.5}, \"startingWithRedLight\": false, \"waitingTime\": 0.0, \"waitingTimeYellowPhase\": 0.0}, {\"absorbing\": false, \"deletionDistance\": 0.1, \"id\": 237, \"individualWaiting\": true, \"nextSpeed\": -1.0, \"parallelWaiters\": 0, \"shape\": {\"height\": 0.5, \"type\": \"RECTANGLE\", \"width\": 0.5, \"x\": 24.5, \"y\": 1.0}, \"startingWithRedLight\": false, \"waitingTime\": 0.0, \"waitingTimeYellowPhase\": 0.0}, {\"absorbing\": false, \"deletionDistance\": 0.1, \"id\": 238, \"individualWaiting\": true, \"nextSpeed\": -1.0, \"parallelWaiters\": 0, \"shape\": {\"height\": 0.5, \"type\": \"RECTANGLE\", \"width\": 0.5, \"x\": 24.5, \"y\": 2.2}, \"startingWithRedLight\": false, \"waitingTime\": 0.0, \"waitingTimeYellowPhase\": 0.0}, {\"absorbing\": false, \"deletionDistance\": 0.1, \"id\": 239, \"individualWaiting\": true, \"nextSpeed\": -1.0, \"parallelWaiters\": 0, \"shape\": {\"height\": 0.5, \"type\": \"RECTANGLE\", \"width\": 0.5, \"x\": 24.5, \"y\": 2.7}, \"startingWithRedLight\": false, \"waitingTime\": 0.0, \"waitingTimeYellowPhase\": 0.0}, {\"absorbing\": false, \"deletionDistance\": 0.1, \"id\": 240, \"individualWaiting\": true, \"nextSpeed\": -1.0, \"parallelWaiters\": 0, \"shape\": {\"height\": 0.5, \"type\": \"RECTANGLE\", \"width\": 0.5, \"x\": 26.5, \"y\": 0.5}, \"startingWithRedLight\": false, \"waitingTime\": 0.0, \"waitingTimeYellowPhase\": 0.0}, {\"absorbing\": false, \"deletionDistance\": 0.1, \"id\": 241, \"individualWaiting\": true, \"nextSpeed\": -1.0, \"parallelWaiters\": 0, \"shape\": {\"height\": 0.5, \"type\": \"RECTANGLE\", \"width\": 0.5, \"x\": 26.5, \"y\": 1.0}, \"startingWithRedLight\": false, \"waitingTime\": 0.0, \"waitingTimeYellowPhase\": 0.0}, {\"absorbing\": false, \"deletionDistance\": 0.1, \"id\": 242, \"individualWaiting\": true, \"nextSpeed\": -1.0, \"parallelWaiters\": 0, \"shape\": {\"height\": 0.5, \"type\": \"RECTANGLE\", \"width\": 0.5, \"x\": 27.5, \"y\": 0.5}, \"startingWithRedLight\": false, \"waitingTime\": 0.0, \"waitingTimeYellowPhase\": 0.0}, {\"absorbing\": false, \"deletionDistance\": 0.1, \"id\": 243, \"individualWaiting\": true, \"nextSpeed\": -1.0, \"parallelWaiters\": 0, \"shape\": {\"height\": 0.5, \"type\": \"RECTANGLE\", \"width\": 0.5, \"x\": 27.5, \"y\": 1.0}, \"startingWithRedLight\": false, \"waitingTime\": 0.0, \"waitingTimeYellowPhase\": 0.0}, {\"absorbing\": false, \"deletionDistance\": 0.1, \"id\": 244, \"individualWaiting\": true, \"nextSpeed\": -1.0, \"parallelWaiters\": 0, \"shape\": {\"height\": 0.5, \"type\": \"RECTANGLE\", \"width\": 0.5, \"x\": 27.5, \"y\": 2.7}, \"startingWithRedLight\": false, \"waitingTime\": 0.0, \"waitingTimeYellowPhase\": 0.0}, {\"absorbing\": false, \"deletionDistance\": 0.1, \"id\": 245, \"individualWaiting\": true, \"nextSpeed\": -1.0, \"parallelWaiters\": 0, \"shape\": {\"height\": 0.5, \"type\": \"RECTANGLE\", \"width\": 0.5, \"x\": 27.5, \"y\": 2.2}, \"startingWithRedLight\": false, \"waitingTime\": 0.0, \"waitingTimeYellowPhase\": 0.0}, {\"absorbing\": false, \"deletionDistance\": 0.1, \"id\": 246, \"individualWaiting\": true, \"nextSpeed\": -1.0, \"parallelWaiters\": 0, \"shape\": {\"height\": 0.5, \"type\": \"RECTANGLE\", \"width\": 0.5, \"x\": 26.5, \"y\": 2.2}, \"startingWithRedLight\": false, \"waitingTime\": 0.0, \"waitingTimeYellowPhase\": 0.0}, {\"absorbing\": false, \"deletionDistance\": 0.1, \"id\": 247, \"individualWaiting\": true, \"nextSpeed\": -1.0, \"parallelWaiters\": 0, \"shape\": {\"height\": 0.5, \"type\": \"RECTANGLE\", \"width\": 0.5, \"x\": 26.5, \"y\": 2.7}, \"startingWithRedLight\": false, \"waitingTime\": 0.0, \"waitingTimeYellowPhase\": 0.0}, {\"absorbing\": false, \"deletionDistance\": 0.1, \"id\": 248, \"individualWaiting\": true, \"nextSpeed\": -1.0, \"parallelWaiters\": 0, \"shape\": {\"height\": 0.1, \"type\": \"RECTANGLE\", \"width\": 0.1, \"x\": 16.7, \"y\": 2.6}, \"startingWithRedLight\": false, \"waitingTime\": 0.0, \"waitingTimeYellowPhase\": 0.0}, {\"absorbing\": false, \"deletionDistance\": 0.1, \"id\": 249, \"individualWaiting\": true, \"nextSpeed\": -1.0, \"parallelWaiters\": 0, \"shape\": {\"height\": 0.1, \"type\": \"RECTANGLE\", \"width\": 0.1, \"x\": 16.7, \"y\": 1.3}, \"startingWithRedLight\": false, \"waitingTime\": 0.0, \"waitingTimeYellowPhase\": 0.0}, {\"absorbing\": false, \"deletionDistance\": 0.1, \"id\": 250, \"individualWaiting\": true, \"nextSpeed\": -1.0, \"parallelWaiters\": 0, \"shape\": {\"height\": 0.1, \"type\": \"RECTANGLE\", \"width\": 0.1, \"x\": 21.2, \"y\": 1.3}, \"startingWithRedLight\": false, \"waitingTime\": 0.0, \"waitingTimeYellowPhase\": 0.0}, {\"absorbing\": false, \"deletionDistance\": 0.1, \"id\": 251, \"individualWaiting\": true, \"nextSpeed\": -1.0, \"parallelWaiters\": 0, \"shape\": {\"height\": 0.1, \"type\": \"RECTANGLE\", \"width\": 0.1, \"x\": 21.2, \"y\": 2.7}, \"startingWithRedLight\": false, \"waitingTime\": 0.0, \"waitingTimeYellowPhase\": 0.0}, {\"absorbing\": false, \"deletionDistance\": 0.1, \"id\": 252, \"individualWaiting\": true, \"nextSpeed\": -1.0, \"parallelWaiters\": 0, \"shape\": {\"height\": 0.1, \"type\": \"RECTANGLE\", \"width\": 0.1, \"x\": 25.8, \"y\": 2.6}, \"startingWithRedLight\": false, \"waitingTime\": 0.0, \"waitingTimeYellowPhase\": 0.0}, {\"absorbing\": false, \"deletionDistance\": 0.1, \"id\": 253, \"individualWaiting\": true, \"nextSpeed\": -1.0, \"parallelWaiters\": 0, \"shape\": {\"height\": 0.1, \"type\": \"RECTANGLE\", \"width\": 0.1, \"x\": 25.8, \"y\": 1.3}, \"startingWithRedLight\": false, \"waitingTime\": 0.0, \"waitingTimeYellowPhase\": 0.0}], \"teleporter\": null}}}\n",
      "./output_files_vadere/final_project/scenarios/two_cars_2022_07_25-11_39.scenario\n"
     ]
    }
   ],
   "source": [
    "file_base_path = \"./output_files_vadere/final_project/scenarios/\"\n",
    "one_car_path = \"one_car_\"\n",
    "two_car_path = \"two_cars_\"\n",
    "car_path = one_car_path if number_of_cars == 1 else two_car_path\n",
    "file_unique = time.strftime(\"%Y_%m_%d-%H_%M\")\n",
    "name = car_path + file_unique\n",
    "file_extension = \".scenario\"\n",
    "\n",
    "data[\"name\"] = name\n",
    "qux = json.dumps(dict(data))\n",
    "print(qux)\n",
    "\n",
    "new_file = file_base_path + name + file_extension\n",
    "print(new_file)\n",
    "\n",
    "new_f = open(new_file,\"w\")\n",
    "new_f.write(json.dumps(dict(data), sort_keys=True, indent=2))\n",
    "new_f.close()"
   ]
  },
  {
   "cell_type": "code",
   "execution_count": 264,
   "metadata": {
    "pycharm": {
     "name": "#%%\n"
    }
   },
   "outputs": [],
   "source": []
  }
 ],
 "metadata": {
  "kernelspec": {
   "display_name": "Python 3",
   "language": "python",
   "name": "python3"
  },
  "language_info": {
   "codemirror_mode": {
    "name": "ipython",
    "version": 3
   },
   "file_extension": ".py",
   "mimetype": "text/x-python",
   "name": "python",
   "nbconvert_exporter": "python",
   "pygments_lexer": "ipython3",
   "version": "3.8.8"
  },
  "vscode": {
   "interpreter": {
    "hash": "4d6bb5e018eb65992dc965fc8647a7519964fbc25d83aa4c668e73f6054c808b"
   }
  }
 },
 "nbformat": 4,
 "nbformat_minor": 2
}
